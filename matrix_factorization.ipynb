{
 "cells": [
  {
   "cell_type": "code",
   "execution_count": 78,
   "metadata": {},
   "outputs": [],
   "source": [
    "from surprise import Dataset\n",
    "from surprise.model_selection import cross_validate, GridSearchCV\n",
    "from surprise import SVD, SVDpp, NMF, KNNBasic\n",
    "from surprise.accuracy import rmse, mae"
   ]
  },
  {
   "cell_type": "code",
   "execution_count": 79,
   "metadata": {},
   "outputs": [],
   "source": [
    "data = Dataset.load_builtin('ml-100k')"
   ]
  },
  {
   "cell_type": "code",
   "execution_count": 80,
   "metadata": {},
   "outputs": [],
   "source": [
    "models = [\n",
    "    {'algo': SVD, 'param_grid': {'n_epochs': [5, 10], 'lr_all': [0.002, 0.005], 'reg_all': [0.4, 0.6]}},\n",
    "    {'algo': SVDpp, 'param_grid': {'n_epochs': [5, 10], 'lr_all': [0.002, 0.005], 'reg_all': [0.4, 0.6]}},\n",
    "    {'algo': NMF, 'param_grid': {'n_factors': [10, 20], 'n_epochs': [10, 20]}}\n",
    "]"
   ]
  },
  {
   "cell_type": "code",
   "execution_count": 82,
   "metadata": {},
   "outputs": [
    {
     "name": "stdout",
     "output_type": "stream",
     "text": [
      "Algorithm: SVD\n",
      "Best parameters for RMSE: {'n_epochs': 10, 'lr_all': 0.005, 'reg_all': 0.4}\n",
      "RMSE: 0.9643974185029288\n",
      "Best parameters for MAE: {'n_epochs': 10, 'lr_all': 0.005, 'reg_all': 0.4}\n",
      "MAE: 0.7731227818402918\n",
      "-------------------------------------------------------\n",
      "Algorithm: SVDpp\n",
      "Best parameters for RMSE: {'n_epochs': 10, 'lr_all': 0.005, 'reg_all': 0.4}\n",
      "RMSE: 0.9643362720714027\n",
      "Best parameters for MAE: {'n_epochs': 10, 'lr_all': 0.005, 'reg_all': 0.4}\n",
      "MAE: 0.772847758813581\n",
      "-------------------------------------------------------\n",
      "Algorithm: NMF\n",
      "Best parameters for RMSE: {'n_factors': 10, 'n_epochs': 20}\n",
      "RMSE: 1.0646028456001226\n",
      "Best parameters for MAE: {'n_factors': 20, 'n_epochs': 20}\n",
      "MAE: 0.8431135055575524\n",
      "-------------------------------------------------------\n"
     ]
    }
   ],
   "source": [
    "for model in models:\n",
    "    algo = model['algo']\n",
    "    param_grid = model['param_grid']\n",
    "    result = GridSearchCV(algo, param_grid, measures=['rmse', 'mae'], cv=3)\n",
    "    result.fit(data)\n",
    "    print(f'Algorithm: {algo.__name__}')\n",
    "    print(f'Best parameters for RMSE: {result.best_params['rmse']}')\n",
    "    print(f'RMSE: {result.best_score['rmse']}')\n",
    "    print(f'Best parameters for MAE: {result.best_params['mae']}')\n",
    "    print(f'MAE: {result.best_score['mae']}')\n",
    "    print('-------------------------------------------------------')"
   ]
  },
  {
   "cell_type": "markdown",
   "metadata": {},
   "source": [
    "**SVD and SVDpp:** <br>\n",
    "The best parameters for both algorithms are the same: n_epochs: 10, lr_all: 0.005, reg_all: 0.4.<br>\n",
    "The RMSE for both algorithms is about 0.964, and the MAE is about 0.773.<br>\n",
    "SVDpp takes longer to execute than SVD. This is due to the greater complexity of the algorithm itself. The choice between algorithms depends on the specific needs of the project: if speed is critical, SVD may be the optimal choice, otherwise, if maximum accuracy is the main goal, SVDpp can be considered.<br>\n",
    "\n",
    "**NMF:**<br>\n",
    "Best settings: n_factors: 10, n_epochs: 20.<br>\n",
    "The RMSE is about 1.065 and the MAE is about 0.843, an experiment with other settings can get better results.<br>\n",
    "The optimal n_factors parameter was found to be different for different metrics (RMSE and MAE), showing that the metrics take into account different aspects of recommendation quality. RMSE focuses more on the accuracy of forecasts, while MAE estimates the mean absolute error. It is important to understand which metric is more important to use and take this into account when choosing parameters.<br>"
   ]
  }
 ],
 "metadata": {
  "kernelspec": {
   "display_name": "Python 3",
   "language": "python",
   "name": "python3"
  },
  "language_info": {
   "codemirror_mode": {
    "name": "ipython",
    "version": 3
   },
   "file_extension": ".py",
   "mimetype": "text/x-python",
   "name": "python",
   "nbconvert_exporter": "python",
   "pygments_lexer": "ipython3",
   "version": "3.12.2"
  }
 },
 "nbformat": 4,
 "nbformat_minor": 2
}
